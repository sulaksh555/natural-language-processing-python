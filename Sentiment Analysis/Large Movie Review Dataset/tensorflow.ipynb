{
 "cells": [
  {
   "cell_type": "markdown",
   "metadata": {},
   "source": [
    "# Setup"
   ]
  },
  {
   "cell_type": "markdown",
   "metadata": {},
   "source": [
    "Import the libraries and methods required for the project."
   ]
  },
  {
   "cell_type": "code",
   "execution_count": 1,
   "metadata": {
    "execution": {
     "iopub.execute_input": "2021-08-25T15:11:00.681179Z",
     "iopub.status.busy": "2021-08-25T15:11:00.680791Z",
     "iopub.status.idle": "2021-08-25T15:11:05.443883Z",
     "shell.execute_reply": "2021-08-25T15:11:05.443031Z",
     "shell.execute_reply.started": "2021-08-25T15:11:00.681079Z"
    }
   },
   "outputs": [],
   "source": [
    "import numpy as np\n",
    "import matplotlib.pyplot as plt\n",
    "import tensorflow as tf\n",
    "import tensorflow_datasets as tfds\n",
    "from tensorflow.keras.layers.experimental.preprocessing import TextVectorization\n",
    "from tensorflow.keras import Sequential\n",
    "from tensorflow.keras.layers import (\n",
    "    Embedding,\n",
    "    Bidirectional,\n",
    "    LSTM,\n",
    "    Dense,\n",
    "    Dropout\n",
    ")\n",
    "from tensorflow.keras.losses import BinaryCrossentropy\n",
    "from tensorflow.keras.optimizers import Adam"
   ]
  },
  {
   "cell_type": "markdown",
   "metadata": {},
   "source": [
    "# Helper function"
   ]
  },
  {
   "cell_type": "markdown",
   "metadata": {},
   "source": [
    "Create a helper function to make metric plots."
   ]
  },
  {
   "cell_type": "code",
   "execution_count": 2,
   "metadata": {
    "execution": {
     "iopub.execute_input": "2021-08-25T15:11:10.530317Z",
     "iopub.status.busy": "2021-08-25T15:11:10.529984Z",
     "iopub.status.idle": "2021-08-25T15:11:10.536757Z",
     "shell.execute_reply": "2021-08-25T15:11:10.535682Z",
     "shell.execute_reply.started": "2021-08-25T15:11:10.530267Z"
    }
   },
   "outputs": [],
   "source": [
    "def plot_graphs(history, metric):\n",
    "    plt.plot(history.history[metric])\n",
    "    plt.plot(history.history[\"val_\" + metric], \"\")\n",
    "    plt.xlabel(\"Epochs\")\n",
    "    plt.ylabel(metric)\n",
    "    plt.legend([metric, \"val_\" + metric])"
   ]
  },
  {
   "cell_type": "markdown",
   "metadata": {},
   "source": [
    "# Set up the input pipeline"
   ]
  },
  {
   "cell_type": "markdown",
   "metadata": {},
   "source": [
    "Download the dataset."
   ]
  },
  {
   "cell_type": "code",
   "execution_count": 3,
   "metadata": {
    "execution": {
     "iopub.execute_input": "2021-08-25T15:11:15.907137Z",
     "iopub.status.busy": "2021-08-25T15:11:15.906805Z",
     "iopub.status.idle": "2021-08-25T15:12:18.866952Z",
     "shell.execute_reply": "2021-08-25T15:12:18.866111Z",
     "shell.execute_reply.started": "2021-08-25T15:11:15.907105Z"
    }
   },
   "outputs": [
    {
     "name": "stdout",
     "output_type": "stream",
     "text": [
      "\u001b[1mDownloading and preparing dataset imdb_reviews/plain_text/1.0.0 (download: 80.23 MiB, generated: Unknown size, total: 80.23 MiB) to /root/tensorflow_datasets/imdb_reviews/plain_text/1.0.0...\u001b[0m\n"
     ]
    },
    {
     "data": {
      "application/vnd.jupyter.widget-view+json": {
       "model_id": "b5d58004cfce4cbf85e468b0381ec5ed",
       "version_major": 2,
       "version_minor": 0
      },
      "text/plain": [
       "Dl Completed...: 0 url [00:00, ? url/s]"
      ]
     },
     "metadata": {},
     "output_type": "display_data"
    },
    {
     "data": {
      "application/vnd.jupyter.widget-view+json": {
       "model_id": "8c42ad58cf494eb28370902755d96ba4",
       "version_major": 2,
       "version_minor": 0
      },
      "text/plain": [
       "Dl Size...: 0 MiB [00:00, ? MiB/s]"
      ]
     },
     "metadata": {},
     "output_type": "display_data"
    },
    {
     "name": "stdout",
     "output_type": "stream",
     "text": [
      "\n",
      "\n"
     ]
    },
    {
     "data": {
      "application/vnd.jupyter.widget-view+json": {
       "model_id": "",
       "version_major": 2,
       "version_minor": 0
      },
      "text/plain": [
       "0 examples [00:00, ? examples/s]"
      ]
     },
     "metadata": {},
     "output_type": "display_data"
    },
    {
     "name": "stdout",
     "output_type": "stream",
     "text": [
      "Shuffling and writing examples to /root/tensorflow_datasets/imdb_reviews/plain_text/1.0.0.incomplete3SQTLL/imdb_reviews-train.tfrecord\n"
     ]
    },
    {
     "data": {
      "application/vnd.jupyter.widget-view+json": {
       "model_id": "93c56ee24f1a42b58cef8e47450d3191",
       "version_major": 2,
       "version_minor": 0
      },
      "text/plain": [
       "  0%|          | 0/25000 [00:00<?, ? examples/s]"
      ]
     },
     "metadata": {},
     "output_type": "display_data"
    },
    {
     "data": {
      "application/vnd.jupyter.widget-view+json": {
       "model_id": "",
       "version_major": 2,
       "version_minor": 0
      },
      "text/plain": [
       "0 examples [00:00, ? examples/s]"
      ]
     },
     "metadata": {},
     "output_type": "display_data"
    },
    {
     "name": "stdout",
     "output_type": "stream",
     "text": [
      "Shuffling and writing examples to /root/tensorflow_datasets/imdb_reviews/plain_text/1.0.0.incomplete3SQTLL/imdb_reviews-test.tfrecord\n"
     ]
    },
    {
     "data": {
      "application/vnd.jupyter.widget-view+json": {
       "model_id": "73821e266b4b4b738cfc7fa5a5e2ca16",
       "version_major": 2,
       "version_minor": 0
      },
      "text/plain": [
       "  0%|          | 0/25000 [00:00<?, ? examples/s]"
      ]
     },
     "metadata": {},
     "output_type": "display_data"
    },
    {
     "data": {
      "application/vnd.jupyter.widget-view+json": {
       "model_id": "",
       "version_major": 2,
       "version_minor": 0
      },
      "text/plain": [
       "0 examples [00:00, ? examples/s]"
      ]
     },
     "metadata": {},
     "output_type": "display_data"
    },
    {
     "name": "stdout",
     "output_type": "stream",
     "text": [
      "Shuffling and writing examples to /root/tensorflow_datasets/imdb_reviews/plain_text/1.0.0.incomplete3SQTLL/imdb_reviews-unsupervised.tfrecord\n"
     ]
    },
    {
     "data": {
      "application/vnd.jupyter.widget-view+json": {
       "model_id": "185fcbf67b9e4fe4aae6ed711d4b34e0",
       "version_major": 2,
       "version_minor": 0
      },
      "text/plain": [
       "  0%|          | 0/50000 [00:00<?, ? examples/s]"
      ]
     },
     "metadata": {},
     "output_type": "display_data"
    },
    {
     "name": "stdout",
     "output_type": "stream",
     "text": [
      "\u001b[1mDataset imdb_reviews downloaded and prepared to /root/tensorflow_datasets/imdb_reviews/plain_text/1.0.0. Subsequent calls will reuse this data.\u001b[0m\n"
     ]
    }
   ],
   "source": [
    "dataset, info = tfds.load(name = \"imdb_reviews\",\n",
    "                          as_supervised = True,\n",
    "                          with_info = True)"
   ]
  },
  {
   "cell_type": "code",
   "execution_count": 4,
   "metadata": {
    "execution": {
     "iopub.execute_input": "2021-08-25T15:12:26.718835Z",
     "iopub.status.busy": "2021-08-25T15:12:26.718523Z",
     "iopub.status.idle": "2021-08-25T15:12:26.724864Z",
     "shell.execute_reply": "2021-08-25T15:12:26.723954Z",
     "shell.execute_reply.started": "2021-08-25T15:12:26.718807Z"
    }
   },
   "outputs": [],
   "source": [
    "train = dataset[\"train\"]\n",
    "test = dataset[\"test\"]"
   ]
  },
  {
   "cell_type": "code",
   "execution_count": 5,
   "metadata": {
    "execution": {
     "iopub.execute_input": "2021-08-25T15:12:29.953204Z",
     "iopub.status.busy": "2021-08-25T15:12:29.952883Z",
     "iopub.status.idle": "2021-08-25T15:12:29.960181Z",
     "shell.execute_reply": "2021-08-25T15:12:29.959362Z",
     "shell.execute_reply.started": "2021-08-25T15:12:29.953174Z"
    }
   },
   "outputs": [
    {
     "data": {
      "text/plain": [
       "(TensorSpec(shape=(), dtype=tf.string, name=None),\n",
       " TensorSpec(shape=(), dtype=tf.int64, name=None))"
      ]
     },
     "execution_count": 5,
     "metadata": {},
     "output_type": "execute_result"
    }
   ],
   "source": [
    "train.element_spec"
   ]
  },
  {
   "cell_type": "markdown",
   "metadata": {},
   "source": [
    "Inspect the (text, label) pairs obtained."
   ]
  },
  {
   "cell_type": "code",
   "execution_count": 6,
   "metadata": {
    "execution": {
     "iopub.execute_input": "2021-08-25T15:12:34.441950Z",
     "iopub.status.busy": "2021-08-25T15:12:34.441632Z",
     "iopub.status.idle": "2021-08-25T15:12:34.553957Z",
     "shell.execute_reply": "2021-08-25T15:12:34.552944Z",
     "shell.execute_reply.started": "2021-08-25T15:12:34.441921Z"
    }
   },
   "outputs": [
    {
     "name": "stdout",
     "output_type": "stream",
     "text": [
      "Text: b\"This was an absolutely terrible movie. Don't be lured in by Christopher Walken or Michael Ironside. Both are great actors, but this must simply be their worst role in history. Even their great acting could not redeem this movie's ridiculous storyline. This movie is an early nineties US propaganda piece. The most pathetic scenes were those when the Columbian rebels were making their cases for revolutions. Maria Conchita Alonso appeared phony, and her pseudo-love affair with Walken was nothing but a pathetic emotional plug in a movie that was devoid of any real meaning. I am disappointed that there are movies like this, ruining actor's like Christopher Walken's good name. I could barely sit through it.\"\n",
      "Label: 0\n"
     ]
    }
   ],
   "source": [
    "for example, label in train.take(1):\n",
    "    print(\"Text:\", example.numpy())\n",
    "    print(\"Label:\", label.numpy())"
   ]
  },
  {
   "cell_type": "markdown",
   "metadata": {},
   "source": [
    "Shuffle the data for training and create batches of these (text, label) pairs."
   ]
  },
  {
   "cell_type": "code",
   "execution_count": 7,
   "metadata": {
    "execution": {
     "iopub.execute_input": "2021-08-25T15:12:39.061654Z",
     "iopub.status.busy": "2021-08-25T15:12:39.061316Z",
     "iopub.status.idle": "2021-08-25T15:12:39.066352Z",
     "shell.execute_reply": "2021-08-25T15:12:39.065461Z",
     "shell.execute_reply.started": "2021-08-25T15:12:39.061624Z"
    }
   },
   "outputs": [],
   "source": [
    "BUFFER_SIZE = 10000\n",
    "BATCH_SIZE = 64"
   ]
  },
  {
   "cell_type": "code",
   "execution_count": 8,
   "metadata": {
    "execution": {
     "iopub.execute_input": "2021-08-25T15:12:43.462095Z",
     "iopub.status.busy": "2021-08-25T15:12:43.461773Z",
     "iopub.status.idle": "2021-08-25T15:12:43.470250Z",
     "shell.execute_reply": "2021-08-25T15:12:43.469391Z",
     "shell.execute_reply.started": "2021-08-25T15:12:43.462066Z"
    }
   },
   "outputs": [],
   "source": [
    "train = train.shuffle(BUFFER_SIZE).batch(BATCH_SIZE).prefetch(tf.data.AUTOTUNE)\n",
    "test = test.batch(BATCH_SIZE).prefetch(tf.data.AUTOTUNE)"
   ]
  },
  {
   "cell_type": "code",
   "execution_count": 9,
   "metadata": {
    "execution": {
     "iopub.execute_input": "2021-08-25T15:12:46.772825Z",
     "iopub.status.busy": "2021-08-25T15:12:46.772518Z",
     "iopub.status.idle": "2021-08-25T15:12:47.419445Z",
     "shell.execute_reply": "2021-08-25T15:12:47.418578Z",
     "shell.execute_reply.started": "2021-08-25T15:12:46.772797Z"
    }
   },
   "outputs": [
    {
     "name": "stdout",
     "output_type": "stream",
     "text": [
      "Texts: [b\"I personally watched this to see the footage of the 60's and 70's. It was fascinating to learn how the drug movement essentially started and became pop culture and an eventual uncompromising force in life. The interviews of the classic rock stars are titillating and humorous. You feel like you're in on a secret and nodding your head at the same time...because it feels so good and familiar. I loved it, all segments from 60's-present day. I highly recommend this for all aspects, including rock music, the hipper movement, politics and good 'ol history. I check marked the box saying this contains a spoiler, only because I have no idea what some might consider a spoiler or not in this regards, since I discussed what's in all 4 segments, so just wanted to be safe.\"\n",
      " b\"Extremely poor action film starring the ever wooden Dolph Lundgren and Brandon Lee trapped in a sidekick role that never seems to gel. The action is at best average, a bit of nudity chucked in and yes Tia Carrera does use a body double! <br /><br />The set-up is the usual renegade cop forced to break in a new partner on a big case, the makers at least try to give the formula a twist making Lundgren the cop with Oriental values and Lee the modern city slicker but there is zero character development making it almost comical, Lundgrens oriental warrior outfit for the big showdown has to be seen to be believed. The action sequences are by the numbers and Lee(who would go on to make the excellent The Crow) is never given the scope to show off any particular martial arts brilliance. But given his illustrious parentage he must have been under a hell of a lot of pressure and was far better served not having to live up to his father by taking on a very different role in The Crow which showed what a unique actor he may have become if not for his tragic and early death.<br /><br />Unless your a hardcore Lundgren fan or a fan of poor 80's style action movies (think Cobra etc.) then avoid.<br /><br />Poor 3/10\"\n",
      " b\"This movie is so bad it hurts. The car doing 30 mph when it's supposed to go 100... the shift lever that's stuck (in Park!), the nurse that drives for almost 2 hours with the cell phone on the shoulder...can't any of the 2 morons take this damn phone? There's nothing credible in this crap. I would be ashamed to be seen in a movie like this!\"]\n",
      "\n",
      "Labels: [1 0 0]\n"
     ]
    }
   ],
   "source": [
    "for example, label in train.take(1):\n",
    "    print(\"Texts:\", example.numpy()[:3])\n",
    "    print()\n",
    "    print(\"Labels:\", label.numpy()[:3])"
   ]
  },
  {
   "cell_type": "markdown",
   "metadata": {},
   "source": [
    "# Create the text encoder"
   ]
  },
  {
   "cell_type": "markdown",
   "metadata": {},
   "source": [
    "Use the TextVectorization layer to encode each word in the text to an index. Create the layer and pass the dataset's text to the layer's .adapt() method."
   ]
  },
  {
   "cell_type": "code",
   "execution_count": 10,
   "metadata": {
    "execution": {
     "iopub.execute_input": "2021-08-25T15:12:53.301806Z",
     "iopub.status.busy": "2021-08-25T15:12:53.301465Z",
     "iopub.status.idle": "2021-08-25T15:12:57.919409Z",
     "shell.execute_reply": "2021-08-25T15:12:57.918484Z",
     "shell.execute_reply.started": "2021-08-25T15:12:53.301776Z"
    }
   },
   "outputs": [],
   "source": [
    "VOCAB_SIZE = 1000\n",
    "encoder = TextVectorization(max_tokens = VOCAB_SIZE)\n",
    "encoder.adapt(train.map(lambda text, label: text))"
   ]
  },
  {
   "cell_type": "markdown",
   "metadata": {},
   "source": [
    "The vocabulary has been set. Print the first 20 tokens of the vocabulary. After the padding and the unknown tokens, the remaining tokens are in decreasing order of frequency."
   ]
  },
  {
   "cell_type": "code",
   "execution_count": 11,
   "metadata": {
    "execution": {
     "iopub.execute_input": "2021-08-25T15:13:02.195806Z",
     "iopub.status.busy": "2021-08-25T15:13:02.195472Z",
     "iopub.status.idle": "2021-08-25T15:13:02.206118Z",
     "shell.execute_reply": "2021-08-25T15:13:02.205097Z",
     "shell.execute_reply.started": "2021-08-25T15:13:02.195777Z"
    }
   },
   "outputs": [
    {
     "data": {
      "text/plain": [
       "array(['', '[UNK]', 'the', 'and', 'a', 'of', 'to', 'is', 'in', 'it', 'i',\n",
       "       'this', 'that', 'br', 'was', 'as', 'for', 'with', 'movie', 'but'],\n",
       "      dtype='<U14')"
      ]
     },
     "execution_count": 11,
     "metadata": {},
     "output_type": "execute_result"
    }
   ],
   "source": [
    "vocab = np.array(encoder.get_vocabulary())\n",
    "vocab[:20]"
   ]
  },
  {
   "cell_type": "markdown",
   "metadata": {},
   "source": [
    "The tensors of indices are zero-padded to the longest sequence in the batch."
   ]
  },
  {
   "cell_type": "code",
   "execution_count": 12,
   "metadata": {
    "execution": {
     "iopub.execute_input": "2021-08-25T15:13:13.102557Z",
     "iopub.status.busy": "2021-08-25T15:13:13.102199Z",
     "iopub.status.idle": "2021-08-25T15:13:13.136487Z",
     "shell.execute_reply": "2021-08-25T15:13:13.135507Z",
     "shell.execute_reply.started": "2021-08-25T15:13:13.102526Z"
    }
   },
   "outputs": [
    {
     "data": {
      "text/plain": [
       "array([[ 10,   1, 284, ...,   0,   0,   0],\n",
       "       [554, 330, 216, ...,   0,   0,   0],\n",
       "       [ 11,  18,   7, ...,   0,   0,   0]])"
      ]
     },
     "execution_count": 12,
     "metadata": {},
     "output_type": "execute_result"
    }
   ],
   "source": [
    "encoded_example = encoder(example)[:3].numpy()\n",
    "\n",
    "encoded_example"
   ]
  },
  {
   "cell_type": "markdown",
   "metadata": {},
   "source": [
    "With the default settings, this encoding process is not completely reversible. This is because firstly, the limit on the vocab size leads to the presence of unknown tokens in the vocab which can't be retraced back to their original words. Secondly, text is converted to lower case and stripped of punctuation during tokenization. Hence, upper case characters and punctuation marks cannot be regained."
   ]
  },
  {
   "cell_type": "code",
   "execution_count": 13,
   "metadata": {
    "execution": {
     "iopub.execute_input": "2021-08-25T15:13:21.346915Z",
     "iopub.status.busy": "2021-08-25T15:13:21.346597Z",
     "iopub.status.idle": "2021-08-25T15:13:21.359204Z",
     "shell.execute_reply": "2021-08-25T15:13:21.357949Z",
     "shell.execute_reply.started": "2021-08-25T15:13:21.346885Z"
    }
   },
   "outputs": [
    {
     "name": "stdout",
     "output_type": "stream",
     "text": [
      "Original: b\"I personally watched this to see the footage of the 60's and 70's. It was fascinating to learn how the drug movement essentially started and became pop culture and an eventual uncompromising force in life. The interviews of the classic rock stars are titillating and humorous. You feel like you're in on a secret and nodding your head at the same time...because it feels so good and familiar. I loved it, all segments from 60's-present day. I highly recommend this for all aspects, including rock music, the hipper movement, politics and good 'ol history. I check marked the box saying this contains a spoiler, only because I have no idea what some might consider a spoiler or not in this regards, since I discussed what's in all 4 segments, so just wanted to be safe.\"\n",
      "Round-trip: i [UNK] watched this to see the footage of the [UNK] and 70s it was [UNK] to learn how the [UNK] [UNK] [UNK] started and became [UNK] [UNK] and an [UNK] [UNK] [UNK] in life the [UNK] of the classic rock stars are [UNK] and [UNK] you feel like youre in on a secret and [UNK] your head at the same [UNK] it feels so good and [UNK] i loved it all [UNK] from [UNK] day i highly recommend this for all [UNK] including rock music the [UNK] [UNK] [UNK] and good [UNK] history i check [UNK] the [UNK] saying this [UNK] a [UNK] only because i have no idea what some might [UNK] a [UNK] or not in this [UNK] since i [UNK] whats in all 4 [UNK] so just wanted to be [UNK]                                                                                                                                                                                                                                                                                                                                                                                                                                                                                                                                                                                                                                                                                                                                                            \n",
      "\n",
      "Original: b\"Extremely poor action film starring the ever wooden Dolph Lundgren and Brandon Lee trapped in a sidekick role that never seems to gel. The action is at best average, a bit of nudity chucked in and yes Tia Carrera does use a body double! <br /><br />The set-up is the usual renegade cop forced to break in a new partner on a big case, the makers at least try to give the formula a twist making Lundgren the cop with Oriental values and Lee the modern city slicker but there is zero character development making it almost comical, Lundgrens oriental warrior outfit for the big showdown has to be seen to be believed. The action sequences are by the numbers and Lee(who would go on to make the excellent The Crow) is never given the scope to show off any particular martial arts brilliance. But given his illustrious parentage he must have been under a hell of a lot of pressure and was far better served not having to live up to his father by taking on a very different role in The Crow which showed what a unique actor he may have become if not for his tragic and early death.<br /><br />Unless your a hardcore Lundgren fan or a fan of poor 80's style action movies (think Cobra etc.) then avoid.<br /><br />Poor 3/10\"\n",
      "Round-trip: extremely poor action film [UNK] the ever [UNK] [UNK] [UNK] and [UNK] lee [UNK] in a [UNK] role that never seems to [UNK] the action is at best average a bit of [UNK] [UNK] in and yes [UNK] [UNK] does use a body [UNK] br br the [UNK] is the usual [UNK] [UNK] forced to [UNK] in a new [UNK] on a big case the [UNK] at least try to give the [UNK] a twist making [UNK] the [UNK] with [UNK] [UNK] and lee the modern city [UNK] but there is [UNK] character development making it almost [UNK] [UNK] [UNK] [UNK] [UNK] for the big [UNK] has to be seen to be [UNK] the action sequences are by the [UNK] and [UNK] would go on to make the excellent the [UNK] is never given the [UNK] to show off any particular [UNK] [UNK] [UNK] but given his [UNK] [UNK] he must have been under a hell of a lot of [UNK] and was far better [UNK] not having to live up to his father by taking on a very different role in the [UNK] which [UNK] what a unique actor he may have become if not for his [UNK] and early [UNK] br unless your a [UNK] [UNK] fan or a fan of poor 80s style action movies think [UNK] etc then [UNK] br poor [UNK]                                                                                                                                                                                                                                                                                                                                                                                                                                                                                                                                                                                                                                                                 \n",
      "\n",
      "Original: b\"This movie is so bad it hurts. The car doing 30 mph when it's supposed to go 100... the shift lever that's stuck (in Park!), the nurse that drives for almost 2 hours with the cell phone on the shoulder...can't any of the 2 morons take this damn phone? There's nothing credible in this crap. I would be ashamed to be seen in a movie like this!\"\n",
      "Round-trip: this movie is so bad it [UNK] the car doing [UNK] [UNK] when its supposed to go [UNK] the [UNK] [UNK] thats [UNK] in [UNK] the [UNK] that [UNK] for almost 2 hours with the [UNK] [UNK] on the [UNK] any of the 2 [UNK] take this [UNK] [UNK] theres nothing [UNK] in this crap i would be [UNK] to be seen in a movie like this                                                                                                                                                                                                                                                                                                                                                                                                                                                                                                                                                                                                                                                                                                                                                                                                                                \n",
      "\n"
     ]
    }
   ],
   "source": [
    "for n in range(3):\n",
    "    print(\"Original:\", example[n].numpy())\n",
    "    print(\"Round-trip:\", \" \".join(vocab[encoded_example[n]]))\n",
    "    print()"
   ]
  },
  {
   "cell_type": "markdown",
   "metadata": {},
   "source": [
    "# Create the model"
   ]
  },
  {
   "cell_type": "markdown",
   "metadata": {},
   "source": [
    "Define the model's architecture."
   ]
  },
  {
   "cell_type": "code",
   "execution_count": 14,
   "metadata": {
    "execution": {
     "iopub.execute_input": "2021-08-25T15:13:27.764336Z",
     "iopub.status.busy": "2021-08-25T15:13:27.764007Z",
     "iopub.status.idle": "2021-08-25T15:13:27.810230Z",
     "shell.execute_reply": "2021-08-25T15:13:27.809434Z",
     "shell.execute_reply.started": "2021-08-25T15:13:27.764304Z"
    }
   },
   "outputs": [],
   "source": [
    "model = Sequential([\n",
    "    encoder,\n",
    "    Embedding(input_dim = len(encoder.get_vocabulary()),\n",
    "              output_dim = 64,\n",
    "              # use masking to handle the variable sequence lengths\n",
    "              mask_zero = True),\n",
    "    Bidirectional(layer = LSTM(units = 64,\n",
    "                               return_sequences = True)),\n",
    "    Bidirectional(layer = LSTM(units = 32)),\n",
    "    Dense(units = 64, activation = \"relu\"),\n",
    "    Dropout(rate = 0.5),\n",
    "    Dense(units = 1)\n",
    "])"
   ]
  },
  {
   "cell_type": "markdown",
   "metadata": {},
   "source": [
    "Each layer after the Embedding layer supports masking."
   ]
  },
  {
   "cell_type": "code",
   "execution_count": 15,
   "metadata": {
    "execution": {
     "iopub.execute_input": "2021-08-25T15:14:12.314944Z",
     "iopub.status.busy": "2021-08-25T15:14:12.314610Z",
     "iopub.status.idle": "2021-08-25T15:14:12.321278Z",
     "shell.execute_reply": "2021-08-25T15:14:12.320181Z",
     "shell.execute_reply.started": "2021-08-25T15:14:12.314912Z"
    }
   },
   "outputs": [
    {
     "data": {
      "text/plain": [
       "[False, True, True, True, True, True, True]"
      ]
     },
     "execution_count": 15,
     "metadata": {},
     "output_type": "execute_result"
    }
   ],
   "source": [
    "[layer.supports_masking for layer in model.layers]"
   ]
  },
  {
   "cell_type": "markdown",
   "metadata": {},
   "source": [
    "To confirm the above, evaluate the same sentence twice. First, evaluate it without any padding."
   ]
  },
  {
   "cell_type": "code",
   "execution_count": 16,
   "metadata": {
    "execution": {
     "iopub.execute_input": "2021-08-25T15:14:31.028544Z",
     "iopub.status.busy": "2021-08-25T15:14:31.028182Z",
     "iopub.status.idle": "2021-08-25T15:14:46.965645Z",
     "shell.execute_reply": "2021-08-25T15:14:46.964867Z",
     "shell.execute_reply.started": "2021-08-25T15:14:31.028512Z"
    }
   },
   "outputs": [
    {
     "data": {
      "text/plain": [
       "array([-0.00047284], dtype=float32)"
      ]
     },
     "execution_count": 16,
     "metadata": {},
     "output_type": "execute_result"
    }
   ],
   "source": [
    "# Predict on a sample text without padding\n",
    "\n",
    "sample_text = \"The movie was cool. The animation and the graphics were out of this world. I would recommend this movie.\"\n",
    "predictions = model.predict(np.array([sample_text]))\n",
    "\n",
    "predictions[0]"
   ]
  },
  {
   "cell_type": "markdown",
   "metadata": {},
   "source": [
    "Then, evaluate it in a batch with a longer sentence."
   ]
  },
  {
   "cell_type": "code",
   "execution_count": 17,
   "metadata": {
    "execution": {
     "iopub.execute_input": "2021-08-25T15:14:55.732445Z",
     "iopub.status.busy": "2021-08-25T15:14:55.732101Z",
     "iopub.status.idle": "2021-08-25T15:14:55.878980Z",
     "shell.execute_reply": "2021-08-25T15:14:55.878206Z",
     "shell.execute_reply.started": "2021-08-25T15:14:55.732412Z"
    }
   },
   "outputs": [
    {
     "data": {
      "text/plain": [
       "array([-0.00047284], dtype=float32)"
      ]
     },
     "execution_count": 17,
     "metadata": {},
     "output_type": "execute_result"
    }
   ],
   "source": [
    "# Predict on a sample text with padding\n",
    "\n",
    "padding = \"the \" * 2000\n",
    "predictions = model.predict(np.array([sample_text, padding]))\n",
    "\n",
    "predictions[0]"
   ]
  },
  {
   "cell_type": "markdown",
   "metadata": {},
   "source": [
    "Observe that the results with and without padding are identical."
   ]
  },
  {
   "cell_type": "markdown",
   "metadata": {},
   "source": [
    "Compile the model with a loss function, an optimizer and a metric."
   ]
  },
  {
   "cell_type": "code",
   "execution_count": 18,
   "metadata": {
    "execution": {
     "iopub.execute_input": "2021-08-25T15:15:01.929942Z",
     "iopub.status.busy": "2021-08-25T15:15:01.929620Z",
     "iopub.status.idle": "2021-08-25T15:15:01.949569Z",
     "shell.execute_reply": "2021-08-25T15:15:01.948599Z",
     "shell.execute_reply.started": "2021-08-25T15:15:01.929913Z"
    }
   },
   "outputs": [],
   "source": [
    "model.compile(loss = BinaryCrossentropy(from_logits = True),\n",
    "              optimizer = Adam(learning_rate = 1e-4),\n",
    "              metrics = [\"accuracy\"])"
   ]
  },
  {
   "cell_type": "markdown",
   "metadata": {},
   "source": [
    "# Train the model"
   ]
  },
  {
   "cell_type": "markdown",
   "metadata": {},
   "source": [
    "Train the model for the desired number of epochs."
   ]
  },
  {
   "cell_type": "code",
   "execution_count": 19,
   "metadata": {
    "execution": {
     "iopub.execute_input": "2021-08-25T15:15:14.522111Z",
     "iopub.status.busy": "2021-08-25T15:15:14.521674Z",
     "iopub.status.idle": "2021-08-25T15:56:10.242540Z",
     "shell.execute_reply": "2021-08-25T15:56:10.241643Z",
     "shell.execute_reply.started": "2021-08-25T15:15:14.522070Z"
    }
   },
   "outputs": [
    {
     "name": "stdout",
     "output_type": "stream",
     "text": [
      "Epoch 1/30\n",
      "391/391 [==============================] - 99s 218ms/step - loss: 0.6825 - accuracy: 0.5184 - val_loss: 0.4255 - val_accuracy: 0.8094\n",
      "Epoch 2/30\n",
      "391/391 [==============================] - 81s 207ms/step - loss: 0.4151 - accuracy: 0.8090 - val_loss: 0.3441 - val_accuracy: 0.8494\n",
      "Epoch 3/30\n",
      "391/391 [==============================] - 82s 208ms/step - loss: 0.3476 - accuracy: 0.8497 - val_loss: 0.3221 - val_accuracy: 0.8535\n",
      "Epoch 4/30\n",
      "391/391 [==============================] - 82s 208ms/step - loss: 0.3204 - accuracy: 0.8639 - val_loss: 0.3176 - val_accuracy: 0.8602\n",
      "Epoch 5/30\n",
      "391/391 [==============================] - 81s 206ms/step - loss: 0.3202 - accuracy: 0.8628 - val_loss: 0.3123 - val_accuracy: 0.8637\n",
      "Epoch 6/30\n",
      "391/391 [==============================] - 82s 208ms/step - loss: 0.3066 - accuracy: 0.8679 - val_loss: 0.3149 - val_accuracy: 0.8558\n",
      "Epoch 7/30\n",
      "391/391 [==============================] - 82s 208ms/step - loss: 0.3014 - accuracy: 0.8706 - val_loss: 0.3336 - val_accuracy: 0.8619\n",
      "Epoch 8/30\n",
      "391/391 [==============================] - 81s 207ms/step - loss: 0.2977 - accuracy: 0.8734 - val_loss: 0.3193 - val_accuracy: 0.8492\n",
      "Epoch 9/30\n",
      "391/391 [==============================] - 81s 206ms/step - loss: 0.2982 - accuracy: 0.8698 - val_loss: 0.3157 - val_accuracy: 0.8573\n",
      "Epoch 10/30\n",
      "391/391 [==============================] - 81s 206ms/step - loss: 0.2970 - accuracy: 0.8706 - val_loss: 0.3163 - val_accuracy: 0.8596\n",
      "Epoch 11/30\n",
      "391/391 [==============================] - 82s 207ms/step - loss: 0.2924 - accuracy: 0.8733 - val_loss: 0.3195 - val_accuracy: 0.8480\n",
      "Epoch 12/30\n",
      "391/391 [==============================] - 81s 207ms/step - loss: 0.2892 - accuracy: 0.8731 - val_loss: 0.3181 - val_accuracy: 0.8622\n",
      "Epoch 13/30\n",
      "391/391 [==============================] - 81s 206ms/step - loss: 0.2859 - accuracy: 0.8801 - val_loss: 0.3278 - val_accuracy: 0.8602\n",
      "Epoch 14/30\n",
      "391/391 [==============================] - 81s 205ms/step - loss: 0.2866 - accuracy: 0.8754 - val_loss: 0.3249 - val_accuracy: 0.8608\n",
      "Epoch 15/30\n",
      "391/391 [==============================] - 81s 206ms/step - loss: 0.2815 - accuracy: 0.8778 - val_loss: 0.3225 - val_accuracy: 0.8506\n",
      "Epoch 16/30\n",
      "391/391 [==============================] - 81s 206ms/step - loss: 0.2755 - accuracy: 0.8820 - val_loss: 0.3251 - val_accuracy: 0.8462\n",
      "Epoch 17/30\n",
      "391/391 [==============================] - 79s 202ms/step - loss: 0.2816 - accuracy: 0.8770 - val_loss: 0.3221 - val_accuracy: 0.8560\n",
      "Epoch 18/30\n",
      "391/391 [==============================] - 79s 201ms/step - loss: 0.2762 - accuracy: 0.8809 - val_loss: 0.3392 - val_accuracy: 0.8551\n",
      "Epoch 19/30\n",
      "391/391 [==============================] - 79s 200ms/step - loss: 0.2744 - accuracy: 0.8804 - val_loss: 0.3339 - val_accuracy: 0.8451\n",
      "Epoch 20/30\n",
      "391/391 [==============================] - 81s 207ms/step - loss: 0.2715 - accuracy: 0.8823 - val_loss: 0.3378 - val_accuracy: 0.8593\n",
      "Epoch 21/30\n",
      "391/391 [==============================] - 81s 207ms/step - loss: 0.2670 - accuracy: 0.8864 - val_loss: 0.3322 - val_accuracy: 0.8484\n",
      "Epoch 22/30\n",
      "391/391 [==============================] - 82s 208ms/step - loss: 0.2633 - accuracy: 0.8846 - val_loss: 0.3334 - val_accuracy: 0.8544\n",
      "Epoch 23/30\n",
      "391/391 [==============================] - 81s 207ms/step - loss: 0.2633 - accuracy: 0.8840 - val_loss: 0.3377 - val_accuracy: 0.8551\n",
      "Epoch 24/30\n",
      "391/391 [==============================] - 81s 206ms/step - loss: 0.2613 - accuracy: 0.8876 - val_loss: 0.3411 - val_accuracy: 0.8556\n",
      "Epoch 25/30\n",
      "391/391 [==============================] - 81s 207ms/step - loss: 0.2554 - accuracy: 0.8899 - val_loss: 0.3397 - val_accuracy: 0.8514\n",
      "Epoch 26/30\n",
      "391/391 [==============================] - 82s 208ms/step - loss: 0.2539 - accuracy: 0.8890 - val_loss: 0.3495 - val_accuracy: 0.8538\n",
      "Epoch 27/30\n",
      "391/391 [==============================] - 82s 207ms/step - loss: 0.2519 - accuracy: 0.8907 - val_loss: 0.3567 - val_accuracy: 0.8417\n",
      "Epoch 28/30\n",
      "391/391 [==============================] - 82s 207ms/step - loss: 0.2475 - accuracy: 0.8910 - val_loss: 0.3549 - val_accuracy: 0.8482\n",
      "Epoch 29/30\n",
      "391/391 [==============================] - 82s 207ms/step - loss: 0.2436 - accuracy: 0.8973 - val_loss: 0.3531 - val_accuracy: 0.8537\n",
      "Epoch 30/30\n",
      "391/391 [==============================] - 82s 208ms/step - loss: 0.2402 - accuracy: 0.8965 - val_loss: 0.3540 - val_accuracy: 0.8516\n"
     ]
    }
   ],
   "source": [
    "history = model.fit(train,\n",
    "                    epochs = 30,\n",
    "                    validation_data = test)"
   ]
  },
  {
   "cell_type": "markdown",
   "metadata": {},
   "source": [
    "Evaluate the model on the test set."
   ]
  },
  {
   "cell_type": "code",
   "execution_count": 20,
   "metadata": {
    "execution": {
     "iopub.execute_input": "2021-08-25T15:58:00.435025Z",
     "iopub.status.busy": "2021-08-25T15:58:00.434659Z",
     "iopub.status.idle": "2021-08-25T15:58:26.358134Z",
     "shell.execute_reply": "2021-08-25T15:58:26.357366Z",
     "shell.execute_reply.started": "2021-08-25T15:58:00.434993Z"
    }
   },
   "outputs": [
    {
     "name": "stdout",
     "output_type": "stream",
     "text": [
      "391/391 [==============================] - 26s 66ms/step - loss: 0.3540 - accuracy: 0.8516\n",
      "Test loss: 0.3539840579032898\n",
      "Test accuracy: 0.8515999913215637\n"
     ]
    }
   ],
   "source": [
    "test_loss, test_accuracy = model.evaluate(test)\n",
    "\n",
    "print(\"Test loss:\", test_loss)\n",
    "print(\"Test accuracy:\", test_accuracy)"
   ]
  },
  {
   "cell_type": "markdown",
   "metadata": {},
   "source": [
    "Plot the metrics for the training process."
   ]
  },
  {
   "cell_type": "code",
   "execution_count": 21,
   "metadata": {
    "execution": {
     "iopub.execute_input": "2021-08-25T15:58:32.095114Z",
     "iopub.status.busy": "2021-08-25T15:58:32.094736Z",
     "iopub.status.idle": "2021-08-25T15:58:32.503298Z",
     "shell.execute_reply": "2021-08-25T15:58:32.502264Z",
     "shell.execute_reply.started": "2021-08-25T15:58:32.095082Z"
    }
   },
   "outputs": [
    {
     "data": {
      "text/plain": [
       "(0.0, 0.6509137965738774)"
      ]
     },
     "execution_count": 21,
     "metadata": {},
     "output_type": "execute_result"
    },
    {
     "data": {
      "image/png": "[encoded data removed]",
      "text/plain": [
       "<Figure size 1152x576 with 2 Axes>"
      ]
     },
     "metadata": {
      "needs_background": "light"
     },
     "output_type": "display_data"
    }
   ],
   "source": [
    "plt.figure(figsize = (16, 8))\n",
    "plt.subplot(1, 2, 1)\n",
    "plot_graphs(history, \"accuracy\")\n",
    "plt.ylim(None, 1)\n",
    "plt.subplot(1, 2, 2)\n",
    "plot_graphs(history, \"loss\")\n",
    "plt.ylim(0, None)"
   ]
  },
  {
   "cell_type": "markdown",
   "metadata": {},
   "source": [
    "# Make predictions on new data"
   ]
  },
  {
   "cell_type": "markdown",
   "metadata": {},
   "source": [
    "Come up with a new review of your own and let the model figure out whether it's positive or negative."
   ]
  },
  {
   "cell_type": "code",
   "execution_count": 22,
   "metadata": {
    "execution": {
     "iopub.execute_input": "2021-08-25T15:58:54.799204Z",
     "iopub.status.busy": "2021-08-25T15:58:54.798869Z",
     "iopub.status.idle": "2021-08-25T15:58:58.677232Z",
     "shell.execute_reply": "2021-08-25T15:58:58.676364Z",
     "shell.execute_reply.started": "2021-08-25T15:58:54.799173Z"
    }
   },
   "outputs": [
    {
     "data": {
      "text/plain": [
       "array([-0.27691582], dtype=float32)"
      ]
     },
     "execution_count": 22,
     "metadata": {},
     "output_type": "execute_result"
    }
   ],
   "source": [
    "sample_text = \"The movie was cool. The animation and the graphics were out of this world. I would recommend this movie.\"\n",
    "predictions = model.predict(np.array([sample_text]))\n",
    "\n",
    "predictions[0]"
   ]
  },
  {
   "cell_type": "markdown",
   "metadata": {},
   "source": [
    "Save the model to disk."
   ]
  },
  {
   "cell_type": "code",
   "execution_count": 23,
   "metadata": {
    "execution": {
     "iopub.execute_input": "2021-08-25T15:59:04.192755Z",
     "iopub.status.busy": "2021-08-25T15:59:04.192422Z",
     "iopub.status.idle": "2021-08-25T15:59:44.068557Z",
     "shell.execute_reply": "2021-08-25T15:59:44.067621Z",
     "shell.execute_reply.started": "2021-08-25T15:59:04.192724Z"
    }
   },
   "outputs": [],
   "source": [
    "model.save(\"tensorflow-model\")"
   ]
  }
 ],
 "metadata": {
  "kernelspec": {
   "display_name": "Python 3",
   "language": "python",
   "name": "python3"
  },
  "language_info": {
   "codemirror_mode": {
    "name": "ipython",
    "version": 3
   },
   "file_extension": ".py",
   "mimetype": "text/x-python",
   "name": "python",
   "nbconvert_exporter": "python",
   "pygments_lexer": "ipython3",
   "version": "3.8.5"
  }
 },
 "nbformat": 4,
 "nbformat_minor": 4
}
